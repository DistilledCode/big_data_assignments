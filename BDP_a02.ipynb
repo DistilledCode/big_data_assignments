{
 "cells": [
  {
   "cell_type": "code",
   "execution_count": 1,
   "metadata": {},
   "outputs": [],
   "source": [
    "from sklearn.datasets import fetch_20newsgroups\n",
    "from sklearn.feature_extraction.text import TfidfVectorizer\n",
    "from sklearn.metrics.pairwise import cosine_similarity\n",
    "from string import digits, punctuation\n",
    "import numpy as np"
   ]
  },
  {
   "cell_type": "code",
   "execution_count": 2,
   "metadata": {},
   "outputs": [
    {
     "data": {
      "text/plain": [
       "11314"
      ]
     },
     "execution_count": 2,
     "metadata": {},
     "output_type": "execute_result"
    }
   ],
   "source": [
    "data = fetch_20newsgroups(subset='train', remove=('header', 'footer', 'quotes'))['data']\n",
    "test_data = fetch_20newsgroups(subset='test', remove=('header', 'footer', 'quotes'))['data']\n",
    "len(data)"
   ]
  },
  {
   "cell_type": "code",
   "execution_count": 3,
   "metadata": {},
   "outputs": [
    {
     "data": {
      "text/plain": [
       "[\"From: lerxst@wam.umd.edu (where's my thing)\\nSubject: WHAT car is this!?\\nNntp-Posting-Host: rac3.wam.umd.edu\\nOrganization: University of Maryland, College Park\\nLines: 15\\n\\n I was wondering if anyone out there could enlighten me on this car I saw\\nthe other day. It was a 2-door sports car, looked to be from the late 60s/\\nearly 70s. It was called a Bricklin. The doors were really small. In addition,\\nthe front bumper was separate from the rest of the body. This is \\nall I know. If anyone can tellme a model name, engine specs, years\\nof production, where this car is made, history, or whatever info you\\nhave on this funky looking car, please e-mail.\\n\\nThanks,\\n- IL\\n   ---- brought to you by your neighborhood Lerxst ----\\n\\n\\n\\n\\n\",\n",
       " \"From: guykuo@carson.u.washington.edu (Guy Kuo)\\nSubject: SI Clock Poll - Final Call\\nSummary: Final call for SI clock reports\\nKeywords: SI,acceleration,clock,upgrade\\nArticle-I.D.: shelley.1qvfo9INNc3s\\nOrganization: University of Washington\\nLines: 11\\nNNTP-Posting-Host: carson.u.washington.edu\\n\\nA fair number of brave souls who upgraded their SI clock oscillator have\\nshared their experiences for this poll. Please send a brief message detailing\\nyour experiences with the procedure. Top speed attained, CPU rated speed,\\nadd on cards and adapters, heat sinks, hour of usage per day, floppy disk\\nfunctionality with 800 and 1.4 m floppies are especially requested.\\n\\nI will be summarizing in the next two days, so please add to the network\\nknowledge base if you have done the clock upgrade and haven't answered this\\npoll. Thanks.\\n\\nGuy Kuo <guykuo@u.washington.edu>\\n\",\n",
       " 'From: twillis@ec.ecn.purdue.edu (Thomas E Willis)\\nSubject: PB questions...\\nOrganization: Purdue University Engineering Computer Network\\nDistribution: usa\\nLines: 36\\n\\nwell folks, my mac plus finally gave up the ghost this weekend after\\nstarting life as a 512k way back in 1985.  sooo, i\\'m in the market for a\\nnew machine a bit sooner than i intended to be...\\n\\ni\\'m looking into picking up a powerbook 160 or maybe 180 and have a bunch\\nof questions that (hopefully) somebody can answer:\\n\\n* does anybody know any dirt on when the next round of powerbook\\nintroductions are expected?  i\\'d heard the 185c was supposed to make an\\nappearence \"this summer\" but haven\\'t heard anymore on it - and since i\\ndon\\'t have access to macleak, i was wondering if anybody out there had\\nmore info...\\n\\n* has anybody heard rumors about price drops to the powerbook line like the\\nones the duo\\'s just went through recently?\\n\\n* what\\'s the impression of the display on the 180?  i could probably swing\\na 180 if i got the 80Mb disk rather than the 120, but i don\\'t really have\\na feel for how much \"better\" the display is (yea, it looks great in the\\nstore, but is that all \"wow\" or is it really that good?).  could i solicit\\nsome opinions of people who use the 160 and 180 day-to-day on if its worth\\ntaking the disk size and money hit to get the active display?  (i realize\\nthis is a real subjective question, but i\\'ve only played around with the\\nmachines in a computer store breifly and figured the opinions of somebody\\nwho actually uses the machine daily might prove helpful).\\n\\n* how well does hellcats perform?  ;)\\n\\nthanks a bunch in advance for any info - if you could email, i\\'ll post a\\nsummary (news reading time is at a premium with finals just around the\\ncorner... :( )\\n--\\nTom Willis  \\\\  twillis@ecn.purdue.edu    \\\\    Purdue Electrical Engineering\\n---------------------------------------------------------------------------\\n\"Convictions are more dangerous enemies of truth than lies.\"  - F. W.\\nNietzsche\\n',\n",
       " 'From: jgreen@amber (Joe Green)\\nSubject: Re: Weitek P9000 ?\\nOrganization: Harris Computer Systems Division\\nLines: 14\\nDistribution: world\\nNNTP-Posting-Host: amber.ssd.csd.harris.com\\nX-Newsreader: TIN [version 1.1 PL9]\\n\\n\\nDo you have Weitek\\'s address/phone number?  I\\'d like to get some information\\nabout this chip.\\n\\n--\\nJoe Green\\t\\t\\t\\tHarris Corporation\\njgreen@csd.harris.com\\t\\t\\tComputer Systems Division\\n\"The only thing that really scares me is a person with no sense of humor.\"\\n\\t\\t\\t\\t\\t\\t-- Jonathan Winters\\n']"
      ]
     },
     "execution_count": 3,
     "metadata": {},
     "output_type": "execute_result"
    }
   ],
   "source": [
    "data[:4]"
   ]
  },
  {
   "cell_type": "code",
   "execution_count": 4,
   "metadata": {},
   "outputs": [],
   "source": [
    "stop_words = {\"'ll\", 'a', 'able', 'about', 'above', 'abst', 'accordance', 'according', 'accordingly', 'across', 'act', 'actually', 'added', 'adj', 'affected', 'affecting', 'affects', 'after', 'afterwards', 'again', 'against', 'ah', 'all', 'almost', 'alone', 'along', 'already', 'also', 'although', 'always', 'am', 'among', 'amongst', 'an', 'and', 'announce', 'another', 'any', 'anybody', 'anyhow', 'anymore', 'anyone', 'anything', 'anyway', 'anyways', 'anywhere', 'apparently', 'approximately', 'are', 'aren', 'arent', 'arise', 'around', 'as', 'aside', 'ask', 'asking', 'at', 'auth', 'available', 'away', 'awfully', 'b', 'back', 'be', 'became', 'because', 'become', 'becomes', 'becoming', 'been', 'before', 'beforehand', 'begin', 'beginning', 'beginnings', 'begins', 'behind', 'being', 'believe', 'below', 'beside', 'besides', 'between', 'beyond', 'biol', 'both', 'brief', 'briefly', 'but', 'by', 'c', 'ca', 'came', 'can', \"can't\", 'cannot', 'cause', 'causes', 'certain', 'certainly', 'co', 'com', 'come', 'comes', 'contain', 'containing', 'contains', 'could', 'couldnt', 'd', 'date', 'did', \"didn't\", 'different', 'do', 'does', \"doesn't\", 'doing', 'don', \"don't\", 'done', 'down', 'downwards', 'due', 'during', 'e', 'each', 'ed', 'edu', 'effect', 'eg', 'eight', 'eighty', 'either', 'else', 'elsewhere', 'end', 'ending', 'enough', 'especially', 'et', 'et-al', 'etc', 'even', 'ever', 'every', 'everybody', 'everyone', 'everything', 'everywhere', 'ex', 'except', 'f', 'far', 'few', 'ff', 'fifth', 'first', 'five', 'fix', 'followed', 'following', 'follows', 'for', 'former', 'formerly', 'forth', 'found', 'four', 'from', 'further', 'furthermore', 'g', 'gave', 'get', 'gets', 'getting', 'give', 'given', 'gives', 'giving', 'go', 'goes', 'gone', 'got', 'gotten', 'h', 'had', 'happens', 'hardly', 'has', \"hasn't\", 'have', \"haven't\", 'having', 'he', 'hed', 'hence', 'her', 'here', 'hereafter', 'hereby', 'herein', 'heres', 'hereupon', 'hers', 'herself', 'hes', 'hi', 'hid', 'him', 'himself', 'his', 'hither', 'home', 'how', 'howbeit', 'however', 'hundred', 'i', \"i'll\", \"i've\", 'id', 'ie', 'if', 'im', 'immediate', 'immediately', 'importance', 'important', 'in', 'inc', 'indeed', 'index', 'information', 'instead', 'into', 'invention', 'inward', 'is', \"isn't\", 'it', \"it'll\", 'itd', 'its', 'itself', 'j', 'just', 'k', 'keep \\tkeeps', 'kept', 'kg', 'km', 'know', 'known', 'knows', 'l', 'largely', 'last', 'lately', 'later', 'latter', 'latterly', 'least', 'less', 'lest', 'let', 'lets', 'like', 'liked', 'likely', 'line', 'little', 'look', 'looking', 'looks', 'ltd', 'm', 'made', 'mainly', 'make', 'makes', 'many', 'may', 'maybe', 'me', 'mean', 'means', 'meantime', 'meanwhile', 'merely', 'mg', 'might', 'million', 'miss', 'ml', 'more', 'moreover', 'most', 'mostly', 'mr', 'mrs', 'much', 'mug', 'must', 'my', 'myself', 'n', 'na', 'name', 'namely', 'nay', 'nd', 'near', 'nearly', 'necessarily', 'necessary', 'need', 'needs', 'neither', 'never', 'nevertheless', 'new', 'next', 'nine', 'ninety', 'no', 'nobody', 'non', 'none', 'nonetheless', 'noone', 'nor', 'normally', 'nos', 'not', 'noted', 'nothing', 'now', 'nowhere', 'o', 'obtain', 'obtained', 'obviously', 'of', 'off', 'often', 'oh', 'ok', 'okay', 'old', 'omitted', 'on', 'once', 'one', 'ones', 'only', 'onto', 'or', 'ord', 'other', 'others', 'otherwise', 'ought', 'our', 'ours', 'ourselves', 'out', 'outside', 'over', 'overall', 'owing', 'own', 'p', 'page', 'pages', 'part', 'particular', 'particularly', 'past', 'per', 'perhaps', 'placed', 'please', 'plus', 'poorly', 'possible', 'possibly', 'potentially', 'pp', 'predominantly', 'present', 'previously', 'primarily', 'probably', 'promptly', 'proud', 'provides', 'put', 'q', 'que', 'quickly', 'quite', 'qv', 'r', 'ran', 'rather', 'rd', 're', 'readily', 'really', 'recent', 'recently', 'ref', 'refs', 'regarding', 'regardless', 'regards', 'related', 'relatively', 'research', 'respectively', 'resulted', 'resulting', 'results', 'right', 'run', 's', 'said', 'same', 'saw', 'say', 'saying', 'says', 'sec', 'section', 'see', 'seeing', 'seem', 'seemed', 'seeming', 'seems', 'seen', 'self', 'selves', 'sent', 'seven', 'several', 'shall', 'she', \"she'll\", 'shed', 'shes', 'should', \"shouldn't\", 'show', 'showed', 'shown', 'showns', 'shows', 'significant', 'significantly', 'similar', 'similarly', 'since', 'six', 'slightly', 'so', 'some', 'somebody', 'somehow', 'someone', 'somethan', 'something', 'sometime', 'sometimes', 'somewhat', 'somewhere', 'soon', 'sorry', 'specifically', 'specified', 'specify', 'specifying', 'still', 'stop', 'strongly', 'sub', 'substantially', 'successfully', 'such', 'sufficiently', 'suggest', 'sup', 'sure', 't', 'than', 'that', 'the', 'their', 'theirs', 'them', 'themselves', 'then', 'there', 'these', 'they', 'this', 'those', 'through', 'to', 'too', 'under', 'until', 'up', 'very', 'was', 'we', 'were', 'what', 'when', 'where', 'which', 'while', 'who', 'whom', 'why', 'will', 'with', 'you', 'your', 'yours', 'yourself', 'yourselves'}\n",
    "digits_ = tuple(digits)\n",
    "punctuation = punctuation.replace(\"'\",\"\").replace(\"_\",\"\")\n",
    "def preprocess(text:str):\n",
    "    text = str(text).lower() if text.__class__ is not str else text.lower()\n",
    "    text = text.split(\"\\n\\n\", maxsplit=1)[-1]\n",
    "    text = text[::-1].split(\"\\n--\\n\", maxsplit=1)[-1][::-1].strip()\n",
    "    text = text[::-1].split(\"\\n---\\n\", maxsplit=1)[-1][::-1].strip()\n",
    "    for punct in punctuation:\n",
    "        text = text.replace(punct,\" \")\n",
    "    return [word for word in text.split() \n",
    "                if word not in stop_words \n",
    "                and word.isalpha()\n",
    "                ]"
   ]
  },
  {
   "cell_type": "markdown",
   "metadata": {},
   "source": [
    "### Preprocessing the corpus"
   ]
  },
  {
   "cell_type": "code",
   "execution_count": 5,
   "metadata": {},
   "outputs": [],
   "source": [
    "preprocessed: list[str] = []\n",
    "for document in data:\n",
    "    pps = preprocess(document)\n",
    "    preprocessed.append(\" \".join(pps))"
   ]
  },
  {
   "cell_type": "code",
   "execution_count": 6,
   "metadata": {},
   "outputs": [
    {
     "data": {
      "text/plain": [
       "['wondering enlighten car day door sports car looked late early called bricklin doors small addition front bumper separate rest body tellme model engine specs years production car history whatever info funky car mail thanks il brought neighborhood lerxst',\n",
       " 'fair number brave souls upgraded si clock oscillator shared experiences poll send message detailing experiences procedure top speed attained cpu rated speed add cards adapters heat sinks hour usage day floppy disk functionality floppies requested summarizing two days add network knowledge base clock upgrade answered poll thanks guy kuo guykuo u washington',\n",
       " 'well folks mac finally ghost weekend starting life way sooo market machine bit sooner intended picking powerbook bunch questions hopefully answer dirt round powerbook introductions expected heard supposed appearence summer heard access macleak wondering info heard rumors price drops powerbook went impression display swing disk feel better display yea great store wow good solicit opinions people use day day worth taking disk size money hit active display realize real subjective question played machines computer store breifly figured opinions uses machine daily prove helpful well hellcats perform thanks bunch advance info email post summary news reading time premium finals corner',\n",
       " 'address phone number chip']"
      ]
     },
     "execution_count": 6,
     "metadata": {},
     "output_type": "execute_result"
    }
   ],
   "source": [
    "preprocessed[:4]"
   ]
  },
  {
   "cell_type": "markdown",
   "metadata": {},
   "source": [
    "### TF-IDF Vector Matrix"
   ]
  },
  {
   "cell_type": "code",
   "execution_count": 7,
   "metadata": {},
   "outputs": [],
   "source": [
    "vectorizer = TfidfVectorizer(max_features = 2000)\n",
    "tfidf_matrix = vectorizer.fit_transform(preprocessed)"
   ]
  },
  {
   "cell_type": "markdown",
   "metadata": {},
   "source": [
    "### Similarity Matrix"
   ]
  },
  {
   "cell_type": "code",
   "execution_count": 8,
   "metadata": {},
   "outputs": [],
   "source": [
    "similarity = cosine_similarity(tfidf_matrix, tfidf_matrix)\n",
    "\n",
    "# It's a symmetric matrix with 1s on principle diagonal"
   ]
  },
  {
   "cell_type": "markdown",
   "metadata": {},
   "source": [
    "### Similarity between two tf-idf vectors"
   ]
  },
  {
   "cell_type": "code",
   "execution_count": 9,
   "metadata": {},
   "outputs": [],
   "source": [
    "def similarity_between_vectors(vec1, vec2):\n",
    "    return cosine_similarity(vec1.reshape(1,-1),vec2.reshape(1,-1)).flatten()[0]\n",
    "tfidf_arrs =  tfidf_matrix.toarray()"
   ]
  },
  {
   "cell_type": "code",
   "execution_count": 10,
   "metadata": {},
   "outputs": [
    {
     "data": {
      "text/plain": [
       "0.006328509385887433"
      ]
     },
     "execution_count": 10,
     "metadata": {},
     "output_type": "execute_result"
    }
   ],
   "source": [
    "similarity_between_vectors(tfidf_arrs[62], tfidf_arrs[50])"
   ]
  },
  {
   "cell_type": "code",
   "execution_count": 11,
   "metadata": {},
   "outputs": [
    {
     "data": {
      "text/plain": [
       "0.006328509385887432"
      ]
     },
     "execution_count": 11,
     "metadata": {},
     "output_type": "execute_result"
    }
   ],
   "source": [
    "similarity[62][50]"
   ]
  },
  {
   "cell_type": "code",
   "execution_count": 12,
   "metadata": {},
   "outputs": [
    {
     "data": {
      "text/plain": [
       "0.9999999999999991"
      ]
     },
     "execution_count": 12,
     "metadata": {},
     "output_type": "execute_result"
    }
   ],
   "source": [
    "similarity_between_vectors(similarity[50], similarity[50])"
   ]
  },
  {
   "cell_type": "code",
   "execution_count": 13,
   "metadata": {},
   "outputs": [
    {
     "data": {
      "text/plain": [
       "1.0"
      ]
     },
     "execution_count": 13,
     "metadata": {},
     "output_type": "execute_result"
    }
   ],
   "source": [
    "similarity[50][50]"
   ]
  },
  {
   "cell_type": "code",
   "execution_count": 14,
   "metadata": {},
   "outputs": [],
   "source": [
    "def find_similarity(text:str, tfidf_matrix, vectorizer:TfidfVectorizer , top_k = 5):\n",
    "    text = \" \".join(preprocess(text))\n",
    "    text_vector = vectorizer.transform([text])\n",
    "    similarity = cosine_similarity(tfidf_matrix, text_vector).flatten()\n",
    "    top_k = np.argsort(similarity)[-top_k:][::-1]\n",
    "    return similarity[top_k], top_k"
   ]
  },
  {
   "cell_type": "code",
   "execution_count": 15,
   "metadata": {},
   "outputs": [
    {
     "name": "stdout",
     "output_type": "stream",
     "text": [
      "SENTENCE:\n",
      "\n",
      "From: Feng.Qian@launchpad.unc.edu (Feng Qian)\n",
      "Subject: LL format utilities in Maxitor BBS? What is the BBS number?\n",
      "Nntp-Posting-Host: lambada.oit.unc.edu\n",
      "Organization: University of North Carolina Extended Bulletin Board Service\n",
      "Lines: 13\n",
      "\n",
      "\n",
      "Due to some problems with my IDE drive, I LL formatted the Maxitor7213AT.\n",
      "Now it started to give me some errors in some applications. I was told\n",
      "Maxitor has a utility called IDE_INT in their BBS, anyone tried it? Can\n",
      "some one tell me what that BBS number is? Or better, can I find the file\n",
      "in some ftp site? Or perhaps someone can email it to me? Thanks.\n",
      "\n",
      "Feng\n",
      "--\n",
      "   The opinions expressed are not necessarily those of the University of\n",
      "     North Carolina at Chapel Hill, the Campus Office for Information\n",
      "        Technology, or the Experimental Bulletin Board Service.\n",
      "           internet:  laUNChpad.unc.edu or 152.2.22.80\n",
      "\n",
      "\n",
      "\n",
      "================================================================================ \n",
      "SIMILARITIES\n",
      " ========================================\n",
      "0.5364515088984857\n",
      "-----------------\n",
      "From: dshanks@nyx.cs.du.edu (David Shanks)\n",
      "Subject: Re: Diamond Speedstar Driver for v3.1\n",
      "X-Disclaimer: Nyx is a public access Unix system run by the University\n",
      "\tof Denver for the Denver community.  The University has neither\n",
      "\tcontrol over nor responsibility for the opinions of users.\n",
      "Organization: Nyx, Public Access Unix at U. of Denver Math/CS dept.\n",
      "Lines: 10\n",
      "\n",
      "\n",
      "The Diamond BBS has these.  Their 2400 baud BBS phone number is (408)\n",
      "730-1100.  Their 9600 baud BBS phone number is (408) 524-9335.  Sorry,\n",
      "I don't know of any FTP site that has these (though I'd be surprised if\n",
      "there wasn't one).\n",
      "\n",
      "\n",
      "\n",
      "================================================================================\n",
      "SENTENCE:\n",
      "\n",
      "From: glen@tegra.com (Glen Osterhout)\n",
      "Subject: Re: Monitors - Nanao?\n",
      "Organization: Tegra-Varityper, Inc. Billerica, MA\n",
      "Lines: 14\n",
      "\n",
      "\n",
      "Do you mean the ViewSonic 7?  It uses a Matsushita tube.  The Computer \n",
      "Shopper review faults it for having below average sharpness and for\n",
      "lacking some controls (pincushioning, degaussing, convergence and color).\n",
      "It was the lowest priced monitor in the test,  and did have good center \n",
      "to edge focus.\n",
      "\n",
      "\n",
      "\n",
      "\n",
      "\n",
      "\n",
      "================================================================================ \n",
      "SIMILARITIES\n",
      " ========================================\n",
      "0.3360641981223245\n",
      "-----------------\n",
      "From: sloan@cis.uab.edu (Kenneth Sloan)\n",
      "Subject: Re: Surface normal orientations\n",
      "Organization: CIS, University of Alabama at Birmingham\n",
      "Lines: 42\n",
      "\n",
      "\n",
      "Look for edge inconsistencies.  Consider two vertices, p and q, which\n",
      "are connected by at least one edge.\n",
      "\n",
      "If (p,q) is an edge, then (q,p) should *not* appear.  \n",
      "\n",
      "If *both* (p,q) and (q,p) appear as edges, then the surface \"flips\" when\n",
      "you travel across that edge.  This is bad.  \n",
      "\n",
      "Assuming (warning...warning...warning) that you have an otherwise\n",
      "acceptable surface - you can pick an edge, any edge, and traverse the\n",
      "surface enforcing consistency with that edge.  \n",
      "\n",
      "    0) pick an edge (p,q), and mark it as \"OK\"\n",
      "    1) for each face, F, containing this edge (if more than 2, oops)\n",
      "       make sure that all edges in F are consistent (i.e., the Face\n",
      "       should be [(p,q),(q,r),(r,s),(s,t),(t,p)]).  Flip those which\n",
      "       are wrong. Mark all of the edges in F as \"OK\",\n",
      "       and add them to a queue (check for duplicates, and especially\n",
      "       inconsistencies - don't let the queue have both (p,q) and (q,p)). \n",
      "    2) remove an edge from the queue, and go to 1).\n",
      "\n",
      "If a *marked* edge is discovered to be inconsistent, then you lose.\n",
      "\n",
      "If step 1) finds more than one face sharing a particular edge, then you\n",
      "lose. \n",
      "    \n",
      "Otherwise, when done, all of the edges will be consistent.  Which means\n",
      "that all of the surface normals will either point IN or OUT.  Deciding\n",
      "which way is OUT is left as an exercise...\n",
      "\n",
      "\n",
      "\n",
      "-- \n",
      "Kenneth Sloan                   Computer and Information Sciences\n",
      "sloan@cis.uab.edu               University of Alabama at Birmingham\n",
      "(205) 934-2213                  115A Campbell Hall, UAB Station \n",
      "(205) 934-5473 FAX              Birmingham, AL 35294-1170\n",
      "\n",
      "================================================================================\n",
      "SENTENCE:\n",
      "\n",
      "From: bell@plains.NoDak.edu (Robert Bell)\n",
      "Subject: Honda Civic/Saturn SL1 Info needed\n",
      "Distribution: na\n",
      "Expires: Fri, 7 May 1993 04:00:00 GMT\n",
      "Nntp-Posting-Host: plains.nodak.edu\n",
      "Organization: North Dakota Higher Education Computing Network\n",
      "Lines: 17\n",
      "\n",
      "To anyone with experience about Honda Civic (EX or DX) or Saturn SL1:\n",
      "\n",
      "I would be interested in knowing how reliable these cars are, how expensive\n",
      "they are to own and operate (parts, maintenance, gas, insurance), if the\n",
      "dealers are good, and if they actually live up to their economy image.\n",
      "\n",
      "Another question:  what would I expect to pay for a Civic EX coupe with\n",
      "automatic, air, and an AM/FM radio?\n",
      "\n",
      "Mail to the address below or post to this group.\n",
      "\n",
      "Thanks, \n",
      "\n",
      "Rob\n",
      "\n",
      "bell@plains.nodak.edu\n",
      "\n",
      "\n",
      "\n",
      "\n",
      "================================================================================ \n",
      "SIMILARITIES\n",
      " ========================================\n",
      "0.2632506468845851\n",
      "-----------------\n",
      "From: dfield@flute.calpoly.edu (InfoSpunj (Dan Field))\n",
      "Subject: Re: Too many MRIs?\n",
      "Organization: California Polytechnic State University, San Luis Obispo\n",
      "Lines: 19\n",
      "\n",
      "\n",
      "That would be a very expensive toxin indeed!\n",
      "-- \n",
      "\n",
      "================================================================================\n",
      "SENTENCE:\n",
      "\n",
      "From: nicho@vnet.IBM.COM (Greg Stewart-Nicholls)\n",
      "Subject: Re: Death and Taxes (was Why not give $1 billion to...\n",
      "Reply-To: nicho@vnet.ibm.com\n",
      "Disclaimer: This posting represents the poster's views, not those of IBM\n",
      "News-Software: UReply 3.1\n",
      "X-X-From: nicho@vnet.ibm.com\n",
      "            <1993Apr27.072512.439@bby.com.au>\n",
      "Lines: 11\n",
      "\n",
      " Wanna bet ??? You must be too young to remember Bob Askin :-)\n",
      "Read the Costigan commision report if you want to know about corruption\n",
      "in OZ.\n",
      " -----------------------------------------------------------------\n",
      "Greg Nicholls ...         : Vidi\n",
      "nicho@vnet.ibm.com or     : Vici\n",
      "nicho@olympus.demon.co.uk : Veni\n",
      "\n",
      "\n",
      "\n",
      "================================================================================ \n",
      "SIMILARITIES\n",
      " ========================================\n",
      "0.47733776087429325\n",
      "-----------------\n",
      "From: nicho@vnet.IBM.COM (Greg Stewart-Nicholls)\n",
      "Subject: Re: Vandalizing the sky.\n",
      "Reply-To: nicho@vnet.ibm.com\n",
      "Disclaimer: This posting represents the poster's views, not those of IBM\n",
      "News-Software: UReply 3.1\n",
      "X-X-From: nicho@vnet.ibm.com\n",
      "            <C5y4t7.9w3@news.cso.uiuc.edu>\n",
      "Lines: 9\n",
      "\n",
      " Umm, perhaps you could explain what 'rights' we are talking about\n",
      "here ..\n",
      " -----------------------------------------------------------------\n",
      "Greg Nicholls ...         : Vidi\n",
      "nicho@vnet.ibm.com or     : Vici\n",
      "nicho@olympus.demon.co.uk : Veni\n",
      "\n",
      "================================================================================\n",
      "SENTENCE:\n",
      "\n",
      "From: egreen@east.sun.com (Ed Green - Pixel Cruncher)\n",
      "Subject: Re: Good Reasons to Wave at each other\n",
      "Organization: Sun Microsystems, RTP, NC\n",
      "Lines: 14\n",
      "Distribution: world\n",
      "Reply-To: egreen@east.sun.com\n",
      "NNTP-Posting-Host: laser.east.sun.com\n",
      "\n",
      "\n",
      "I think you just answered your own question...\n",
      "\n",
      "---\n",
      "Ed Green, former Ninjaite |I was drinking last night with a biker,\n",
      "  Ed.Green@East.Sun.COM   |and I showed him a picture of you.  I said,\n",
      "DoD #0111  (919)460-8302  |\"Go on, get to know her, you'll like her!\"\n",
      " (The Grateful Dead) -->  |It seemed like the least I could do...\n",
      "\n",
      "\n",
      "\n",
      "\n",
      "================================================================================ \n",
      "SIMILARITIES\n",
      " ========================================\n",
      "0.5970504890271294\n",
      "-----------------\n",
      "From: lsa@ll.mit.edu (lisa s anderson)\n",
      "Subject: Re: Too Many Europeans in NHL\n",
      "Reply-To: lsa@ll.mit.edu (lisa s anderson)\n",
      "Organization: MIT Lincoln Laboratory\n",
      "Lines: 24\n",
      "\n",
      "\n",
      "\n",
      "\n",
      "Uh, Gerald, I think he was joking...\n",
      "\n",
      "\n",
      "-lisa\n",
      "\n",
      "================================================================================\n"
     ]
    }
   ],
   "source": [
    "from random import choices, seed\n",
    "seed(4200)\n",
    "sentences = choices(test_data,k=5)\n",
    "\n",
    "for t in sentences:\n",
    "    sim_percentage, index = find_similarity(t, tfidf_matrix, vectorizer, top_k = 1)\n",
    "    print(f\"SENTENCE:\\n\\n{t}\\n\\n\")\n",
    "    print(\"==\"*40,\"\\nSIMILARITIES\\n\",\"=\"*40)\n",
    "    print(sim_percentage[0],end=\"\\n-----------------\\n\")\n",
    "    print(data[index[0]])\n",
    "    print(\"==\"*40)"
   ]
  }
 ],
 "metadata": {
  "kernelspec": {
   "display_name": "venv-test",
   "language": "python",
   "name": "python3"
  },
  "language_info": {
   "codemirror_mode": {
    "name": "ipython",
    "version": 3
   },
   "file_extension": ".py",
   "mimetype": "text/x-python",
   "name": "python",
   "nbconvert_exporter": "python",
   "pygments_lexer": "ipython3",
   "version": "3.10.7"
  }
 },
 "nbformat": 4,
 "nbformat_minor": 2
}
